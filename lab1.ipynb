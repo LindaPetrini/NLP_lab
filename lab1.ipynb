{
 "cells": [
  {
   "cell_type": "code",
   "execution_count": 75,
   "metadata": {
    "collapsed": true
   },
   "outputs": [],
   "source": [
    "%matplotlib inline\n",
    "import matplotlib\n",
    "import numpy as np\n",
    "import matplotlib.pyplot as plt\n",
    "import itertools"
   ]
  },
  {
   "cell_type": "markdown",
   "metadata": {},
   "source": [
    "# Lab 1: Text Corpora and Language Modelling\n",
    "\n",
    "This lab is meant to help you get familiar with some language data, and use this data to estimate N-gram language models\n",
    "\n",
    "First you will use the **Penn Treebank**, which is a collection of newspaper articles from the newspaper \n",
    "The Wall Street Journal. The idea is to examine the data and notice interesting properties. This will not take more than a few lines of code.\n",
    "\n",
    "Then you will use a corpus consisting of **TedX** talks. This you will use to estimate an **N-gram language model** for different orders of N, and use this this for some tasks.\n",
    "\n",
    "The datasets are on blackboard under course materials. Download the zip and make sure to put the files in the same directory as the notebook.\n",
    "\n",
    "### Rules\n",
    "* The lab exercises should be made in **groups of two people**.\n",
    "\n",
    "* The deadline is **Tuesday 7 nov 16:59**.\n",
    "\n",
    "* The assignment should submitted to **Blackboard** as `.ipynb`. Only **one submission per group**.\n",
    "\n",
    "* The **filename** should be `lab1_lastname1_lastname2.ipynb`, so for example `lab1_Jurafsky_Martin.ipynb`.\n",
    "\n",
    "* The notebook is graded on a scale of **0-10**. The number of points for each question is indicated in parantheses. \n",
    "\n",
    "* The questions marked **optional** are not graded; they are an additional challenge for those interested in going the extra mile. \n",
    "\n",
    "Notes on implementation:\n",
    "\n",
    "* You should **write your code and answers in this iPython Notebook** (see http://ipython.org/notebook.html for reference material). If you have problems, please contact your teaching assistant.\n",
    "\n",
    "* Use only **one cell for code** and **one cell for markdown** answers!    \n",
    "\n",
    "    * Put all code in the cell with the `# YOUR CODE HERE` comment.\n",
    "    \n",
    "    * For theoretical question, put your solution in the YOUR ANSWER HERE cell.\n",
    "    \n",
    "* Test your code and **make sure we can run your notebook**"
   ]
  },
  {
   "cell_type": "markdown",
   "metadata": {},
   "source": [
    "# 1. Penn treebank\n",
    "\n",
    "## Exercise 1.1 (40 points, 5 points per subquestion )\n",
    "\n",
    "You are provided with a corpus containing words with their Part-of-Speech tags (POS-tags for short). The format is\n",
    "**word|POS** (one sentence per line) and the file name is **sec02-22.gold.tagged**. This data is extracted from Sections 02-22 from the Penn Treebank: these sections are most commonly used for training statistical models like POS-taggers and parsers.\n",
    "\n",
    "**[Hint]** **Figure 10.1** in chapter 10 of Jurafsky and Martin (see [here](https://web.stanford.edu/~jurafsky/slp3/10.pdf)) holds a summary of the 45 POS-tags used in the Penn Treebank tagset together with their meaning and some examples. (If you are keen on learning more about the word-classes represented POS-tags and their definitions you can do a litle reading ahead for next week and already have a look at section 10.1 of the same chapter).\n",
    "\n",
    "**[Hint]** the Python library [collections](https://docs.python.org/2/library/collections.html) has an object called `Counter` which will come in handy for this exercise."
   ]
  },
  {
   "cell_type": "markdown",
   "metadata": {},
   "source": [
    " "
   ]
  },
  {
   "cell_type": "markdown",
   "metadata": {},
   "source": [
    "**(a)** How large is the corpus? (i.e. how **many tokens**). And what is the size of the **vocabulary** used in this corpus? \n",
    "\n",
    "Estimate the vocabulary size both by **lowercasing** all the words as well as by leaving the words in their **original orthography**. What is an advantage of lowercasing all the words in your corpus? What is a notable downside? **Give examples.**"
   ]
  },
  {
   "cell_type": "code",
   "execution_count": 95,
   "metadata": {},
   "outputs": [
    {
     "name": "stdout",
     "output_type": "stream",
     "text": [
      "929552\n",
      "44210\n",
      "39384\n"
     ]
    }
   ],
   "source": [
    "import collections\n",
    "\n",
    "words_pos = []\n",
    "with open(\"sec02-21.gold.tagged\", \"r\") as f:\n",
    "    for row in f:\n",
    "        temp = row.split(\" \")\n",
    "        words_pos.append(temp[:-1])  \n",
    "        \n",
    "word_pos = []\n",
    "words = []\n",
    "tags = []\n",
    "for word in words_pos:\n",
    "    for el in word:\n",
    "        temp = el.split(\"|\")\n",
    "        words.append(temp[0])\n",
    "        tags.append(temp[1])\n",
    "        word_pos.append(temp)\n",
    "      \n",
    "\n",
    "print(len(word_pos))\n",
    "vocabulary = collections.Counter(words) \n",
    "print(len(vocabulary))\n",
    "\n",
    "lower_words = []\n",
    "for word in words:\n",
    "    lower_words.append(word.lower())\n",
    "    #if word.lower() != word:\n",
    "        #print(word)\n",
    "    \n",
    "lower_num = collections.Counter(lower_words) \n",
    "print(len(lower_num))"
   ]
  },
  {
   "cell_type": "markdown",
   "metadata": {},
   "source": [
    "The corpus has 929552 tokes. The vocabulary has 44210 elements with the original ortography, but 39384 after lowrcasing. The advantage of lowercasing is that words at the beginning of sentences are not counted twice, on the other hand some ambiguous names may lose one of the meanings. For example the word \"bell\" appears also as a company name \"Bell\" and should therefore be counted twice."
   ]
  },
  {
   "cell_type": "markdown",
   "metadata": {},
   "source": [
    "------\n",
    "For the rest of this exercise you should use the **original orthography** of the data when answering the questions.\n",
    "\n",
    "------\n"
   ]
  },
  {
   "cell_type": "markdown",
   "metadata": {},
   "source": [
    "**(b)** Plot a graph of word frequency versus rank of a word, in this corpus. Does this corpus obey **Zipf’s law**?"
   ]
  },
  {
   "cell_type": "code",
   "execution_count": 361,
   "metadata": {
    "scrolled": true
   },
   "outputs": [
    {
     "data": {
      "image/png": "[encoded data removed]",
      "text/plain": [
       "<matplotlib.figure.Figure at 0x19ad73358>"
      ]
     },
     "metadata": {},
     "output_type": "display_data"
    }
   ],
   "source": [
    "ranks_t = sorted(num.values())\n",
    "ranks = ranks_t[::-1]\n",
    "y = range(len(ranks))\n",
    "plt.loglog(y, ranks, 'o')\n",
    "plt.show()"
   ]
  },
  {
   "cell_type": "markdown",
   "metadata": {},
   "source": [
    "The corpus obeys the Zipf's law, since we can see from the plot that there is a linear relation between the logarithm of the rank and the logarithm of the number of occurrencies for each word."
   ]
  },
  {
   "cell_type": "markdown",
   "metadata": {},
   "source": [
    "**(c)** What are the **20 most common words** in the corpus and how often do they occur? What is the 50th most common word, the 100th and the 1000th and how often do they occur?"
   ]
  },
  {
   "cell_type": "code",
   "execution_count": 81,
   "metadata": {},
   "outputs": [
    {
     "name": "stdout",
     "output_type": "stream",
     "text": [
      "The 20 most common words are:\n",
      ",, the, ., of, to, a, and, in, 's, that, for, $, is, The, said, on, %, it, by, from\n",
      "The 50th most common word is: had.\n",
      "The 100th most common word is : A.\n",
      "The 1000th most common word is : man.\n"
     ]
    }
   ],
   "source": [
    "most_comm = num.most_common(1000)\n",
    "print(\"The 20 most common words are:\")\n",
    "print(*[el[0] for el in most_comm[:20]], sep = \", \")\n",
    "print(\"The 50th most common word is: {}.\".format(most_comm[49][0]))\n",
    "print(\"The 100th most common word is : {}.\".format(most_comm[99][0]))\n",
    "print(\"The 1000th most common word is : {}.\".format(most_comm[999][0]))"
   ]
  },
  {
   "cell_type": "markdown",
   "metadata": {},
   "source": [
    "**(d)** How many different Part-of-speech tags are present in the corpus?"
   ]
  },
  {
   "cell_type": "code",
   "execution_count": 83,
   "metadata": {
    "scrolled": true
   },
   "outputs": [
    {
     "name": "stdout",
     "output_type": "stream",
     "text": [
      "The number of tags is:  48\n"
     ]
    }
   ],
   "source": [
    "num_tag = collections.Counter(tags)\n",
    "print(\"The number of tags is: \", len(num_tag))"
   ]
  },
  {
   "cell_type": "markdown",
   "metadata": {},
   "source": [
    "**(e)** Print a list of the **10 most commonly occurring POS tags** in the data. For each of these POS tags, what are the **3 most common words** that belong to that class?"
   ]
  },
  {
   "cell_type": "code",
   "execution_count": 84,
   "metadata": {},
   "outputs": [
    {
     "name": "stdout",
     "output_type": "stream",
     "text": [
      "The 10 most commonly occurning POS tags are: \n",
      "['NN', 'IN', 'NNP', 'DT', 'JJ', 'NNS', ',', '.', 'CD', 'RB']\n",
      "The 3 most common words in the class NN are: \n",
      "%, company, year\n",
      "The 3 most common words in the class IN are: \n",
      "of, in, for\n",
      "The 3 most common words in the class NNP are: \n",
      "Mr., U.S., Corp.\n",
      "The 3 most common words in the class DT are: \n",
      "the, a, The\n",
      "The 3 most common words in the class JJ are: \n",
      "new, other, last\n",
      "The 3 most common words in the class NNS are: \n",
      "years, shares, sales\n",
      "The 3 most common words in the class , are: \n",
      ",, an, 2\n",
      "The 3 most common words in the class . are: \n",
      "., ?, !\n",
      "The 3 most common words in the class CD are: \n",
      "million, billion, one\n",
      "The 3 most common words in the class RB are: \n",
      "n't, also, not\n"
     ]
    }
   ],
   "source": [
    "print(\"The 10 most commonly occurning POS tags are: \")\n",
    "ten_most_com = num_tag.most_common(10)\n",
    "tags = [item[0] for item in ten_most_com]\n",
    "print(tags)\n",
    "\n",
    "for element in tags:\n",
    "    print(\"The 3 most common words in the class {} are: \".format(element))\n",
    "    occurences = [i for [i, j] in word_pos if j == element]\n",
    "    c = collections.Counter(occurences) \n",
    "    print(*[item[0] for item in c.most_common(3)], sep = \", \")"
   ]
  },
  {
   "cell_type": "markdown",
   "metadata": {},
   "source": [
    "**(f)** A single word may have several POS-tags. For example, *record* can be a both a **noun** *(buy a record)* or a **verb** *(record a lecture)*. This make POS-tags extremely useful for **disambiguation**.\n",
    "\n",
    "What percentage of the words in the vocabulary is **ambiguous**? (i.e. have more than one POS tag?) What are the 10 most frequent combinations of POS tags in the case of ambitguity? Which words are **most ambiguous**? Give some of them."
   ]
  },
  {
   "cell_type": "code",
   "execution_count": 87,
   "metadata": {
    "collapsed": true,
    "scrolled": true
   },
   "outputs": [],
   "source": [
    "dict_word_pos = collections.defaultdict(list)\n",
    "for word, pos in word_pos:\n",
    "    if pos not in dict_word_pos[word]:\n",
    "        dict_word_pos[word].append(pos)"
   ]
  },
  {
   "cell_type": "code",
   "execution_count": 96,
   "metadata": {
    "collapsed": true
   },
   "outputs": [],
   "source": [
    "amb_word_pos = collections.defaultdict(list)\n",
    "for key, value in dict_word_pos.items():\n",
    "    if len(value) > 1:\n",
    "        amb_word_pos[key].extend(value)\n",
    "\n",
    "amb_word_pos_str = amb_word_pos.copy()   \n",
    "for key in amb_word_pos_str.keys():\n",
    "    amb_word_pos_str[key].sort()\n",
    "    amb_word_pos_str[key] = ','.join(amb_word_pos_str[key])"
   ]
  },
  {
   "cell_type": "code",
   "execution_count": 97,
   "metadata": {},
   "outputs": [
    {
     "name": "stdout",
     "output_type": "stream",
     "text": [
      "The percentage of ambiguous words is:  13.469803211942999\n",
      "The most frequent combinations are: [['VBD', 'VBN'], ['JJ', 'NN'], ['NN', 'NNP'], ['VB', 'VBP'], ['NNS', 'VBZ'], ['NN', 'VB'], ['NN', 'VBG'], ['JJ', 'VBD', 'VBN'], ['NN', 'VB', 'VBP'], ['JJ', 'NNP']]\n",
      "The most ambiguous words (words with high number of different tags) are:\n",
      "in, set, that, many, own, cut, point, left, free, hurt, put, open, down, back, bet\n"
     ]
    }
   ],
   "source": [
    "print(\"The percentage of ambiguous words is: \", len(amb_word_pos)/len(vocabulary)*100)\n",
    "\n",
    "tag_list = list(amb_word_pos_str.values())\n",
    "amb_count = collections.Counter(tag_list)\n",
    "most_freq_tag = amb_count.most_common(10)\n",
    "mft = [item[0].split(',') for item in most_freq_tag]\n",
    "print(\"The most frequent combinations are:\", mft)\n",
    "print(\"The most ambiguous words (words with high number of different tags) are:\")\n",
    "m = 0\n",
    "for key, value in amb_word_pos.items():\n",
    "    if len(value) > m :\n",
    "        m = len(value)\n",
    "        word = key\n",
    "most_amb = []\n",
    "for key, value in amb_word_pos.items():\n",
    "    if len(value) > (m-2) :\n",
    "        most_amb.append(key)\n",
    "print(*[item for item in most_amb], sep = \", \")"
   ]
  },
  {
   "cell_type": "markdown",
   "metadata": {},
   "source": [
    "**(g)**  Print some of these words with their multiple POS-tags. Do you **understand the ambiguity**? Use figure 10.1 mentioned above to interpret the POS-tags."
   ]
  },
  {
   "cell_type": "code",
   "execution_count": 94,
   "metadata": {},
   "outputs": [
    {
     "name": "stdout",
     "output_type": "stream",
     "text": [
      "in ['CC', 'FW', 'IN', 'RB', 'RBR', 'RP']\n",
      "set ['JJ', 'NN', 'VB', 'VBD', 'VBN', 'VBP', 'VBZ']\n",
      "that ['DT', 'IN', 'NN', 'RB', 'VBP', 'WDT']\n",
      "many ['DT', 'JJ', 'NN', 'NP', 'PDT', 'RB', 'VB']\n",
      "own ['JJ', 'NN', 'VB', 'VBN', 'VBP', 'VBZ']\n",
      "cut ['JJ', 'NN', 'VB', 'VBD', 'VBN', 'VBP']\n",
      "point ['JJ', 'NN', 'VB', 'VBN', 'VBP', 'VBZ']\n",
      "left ['JJ', 'NN', 'RB', 'VB', 'VBD', 'VBN']\n",
      "free ['JJ', 'NN', 'RB', 'VB', 'VBN', 'VBP']\n",
      "hurt ['JJ', 'NN', 'VB', 'VBD', 'VBN', 'VBP']\n",
      "put ['JJ', 'NN', 'VB', 'VBD', 'VBN', 'VBP']\n",
      "open ['JJ', 'NN', 'RB', 'RP', 'VB', 'VBP', 'VBZ']\n",
      "down ['IN', 'JJ', 'NN', 'RB', 'RBR', 'RP', 'VBP']\n",
      "back ['JJ', 'NN', 'RB', 'RP', 'VB', 'VBP']\n",
      "bet ['NN', 'RB', 'VB', 'VBD', 'VBN', 'VBP']\n"
     ]
    }
   ],
   "source": [
    "for el in most_amb:\n",
    "    print(el, amb_word_pos[el])"
   ]
  },
  {
   "cell_type": "markdown",
   "metadata": {},
   "source": [
    "For example, the first word \"in\" could be a coordin. conjunction, foreign word, adverb, preposition, comparative adverb or particle."
   ]
  },
  {
   "cell_type": "markdown",
   "metadata": {},
   "source": [
    "**(h)** Ambiguous words do not account for a great percentage of the vocabulary. Yet they are among the most commonly occuring words of the English language. What **percentage of the dataset is ambiguous**?"
   ]
  },
  {
   "cell_type": "code",
   "execution_count": 103,
   "metadata": {},
   "outputs": [
    {
     "name": "stdout",
     "output_type": "stream",
     "text": [
      "The percentage of ambiguous words is:  55.079005800643756\n"
     ]
    }
   ],
   "source": [
    "numb_amb_word = 0\n",
    "\n",
    "for word in words:\n",
    "    if word in amb_word_pos.keys():\n",
    "        numb_amb_word += 1\n",
    "\n",
    "print(\"The percentage of ambiguous words is: \", numb_amb_word/len(words)*100)\n"
   ]
  },
  {
   "cell_type": "markdown",
   "metadata": {},
   "source": [
    "## Exercise 1.2 (10 points, 5 per subquestion)"
   ]
  },
  {
   "cell_type": "markdown",
   "metadata": {},
   "source": [
    "You are also provided with another file called **sec00.gold.tagged**. \n",
    "Section 00 of the Penn Treebank is typically used as development data."
   ]
  },
  {
   "cell_type": "markdown",
   "metadata": {},
   "source": [
    "**(a)** How many **unseen words** are present in the development data (i.e., words that have not occurred in the training data)?"
   ]
  },
  {
   "cell_type": "code",
   "execution_count": 398,
   "metadata": {
    "scrolled": false
   },
   "outputs": [
    {
     "name": "stdout",
     "output_type": "stream",
     "text": [
      "The number of unseen words is:  7877\n"
     ]
    }
   ],
   "source": [
    "new_words_p = []\n",
    "with open(\"sec00.gold.tagged\", \"r\") as fi:\n",
    "    for row in fi:\n",
    "        temp = row.split(\" \")\n",
    "        new_words_p.append(temp[:-1])  \n",
    "        \n",
    "\n",
    "new_words = []\n",
    "new_tags = []\n",
    "new_word_pos = []\n",
    "for word in new_words_p:\n",
    "    for el in word:\n",
    "        temp = el.split(\"|\")\n",
    "        new_words.append(temp[0])\n",
    "        new_tags.append(temp[1])\n",
    "        new_word_pos.append(temp)\n",
    "\n",
    "i=0\n",
    "unseen = []\n",
    "for word in new_words:\n",
    "    if word not in words:\n",
    "        i += 1\n",
    "        unseen.append(word)\n",
    "        \n",
    "print(\"The number of unseen words is: \", len(set(unseen)))"
   ]
  },
  {
   "cell_type": "markdown",
   "metadata": {},
   "source": [
    "**(b)** What are the three **POS tag categories** that the most **unseen words** belong to?"
   ]
  },
  {
   "cell_type": "code",
   "execution_count": 399,
   "metadata": {
    "collapsed": true,
    "scrolled": true
   },
   "outputs": [],
   "source": [
    "#unseen_dict = collections.Counter(unseen)\n",
    "dict_pos_word = collections.defaultdict(list)\n",
    "\n",
    "for word, pos in new_word_pos:\n",
    "    dict_pos_word[pos].append(word)"
   ]
  },
  {
   "cell_type": "code",
   "execution_count": 400,
   "metadata": {},
   "outputs": [
    {
     "name": "stdout",
     "output_type": "stream",
     "text": [
      "The POS tag categories are:\n",
      "IN 4878\n",
      "NNP 5079\n",
      "NN 6098\n"
     ]
    }
   ],
   "source": [
    "dict_len = collections.defaultdict(list)\n",
    "for pos, words in dict_pos_word.items():\n",
    "    dict_len[len(words)] = pos\n",
    "order = sorted(list(dict_len.keys()))\n",
    "print(\"The POS tag categories are:\")\n",
    "for el in order[-3:]:\n",
    "    print(dict_len[el], el)"
   ]
  },
  {
   "cell_type": "markdown",
   "metadata": {},
   "source": [
    "# 2. Language Models\n",
    "\n",
    "This part of the lab will be covered in the Wednesday lecture. If you have prior exposure to NLP, go ahead and finish this part! If you don't, start anyway, and this part will be clear after the lecture. \n",
    "\n",
    "Reference **chapter 4** of J&M *Language Modeling with N-Grams*. \n",
    "\n",
    "----------\n",
    "\n",
    "Models that assign **probabilities** to **sequences of words** are called language **language\n",
    "modelels** or **LMs**. The simplest model that assigns probabilities to sentences and sequences of words is the **N-gram** model.\n",
    "\n",
    "Recall that an *N*-gram language model uses **conditional probabilities** of the form\n",
    "    \n",
    "$$P(w_k \\mid w_{k-N+1} \\dots w_{k-1})$$\n",
    "\n",
    "to **approximate** the full **joint probability**\n",
    "\n",
    "$$P(w_1 \\dots w_n)$$\n",
    "\n",
    "of a sequence of words $w_1 \\dots w_n$.\n",
    "\n",
    "The easiest way of obtaining estimates for the probabilities $P(w_k \\mid w_{k-N+1} \\dots w_{k-1})$ is to use the **maximum likelihood estimate** or **MLE**, a widely used statistical estimation method ([read more]((https://en.wikipedia.org/wiki/Maximum_likelihood_estimation)). You count and normalize:\n",
    "\n",
    "$$P_{MLE}(w_k \\mid w_{k-N+1} \\dots w_{k-1}) = \\frac{C(w_{k-N+1} \\dots w_{k-1} w_k)}{C(w_{k-N+1} \\dots w_{k-1})}.$$\n",
    "\n",
    "\n",
    "## Exercise 2.1 (25 points)\n",
    "\n",
    "**(a) ** Complete the function `train_ngram` so that you can train a count-based $N$-gram language model on the data found in `data/ted-train.txt` and train this for $N=2,3,4$. **15 points**\n",
    "\n",
    "**(b) ** Extend the function above so that it accepts a parameter `k` for optional add-$k$ smoothing. **10 points**\n",
    "\n",
    "**[Datastructure hint]** If you store the smoothed language in a naive manner (that is, to store *all* the numbers separately) your datastructure will get huge! If $V$ is the vocabulary then the smoothed bigram model assigns probabilities to $|V|^2$ entries. If $|V|$ is around 80k, the naive way requires you to store more than 64 billion floats. Yet almost all of these are actually just $P(w_n|w_{n-1}) = \\frac{k}{N + k|V|}$, with $k$ the value with which you smooth and $N=C(w_{n-1})$. Think about how you use this fact to make your model work in practice."
   ]
  },
  {
   "cell_type": "markdown",
   "metadata": {},
   "source": [
    "**[Python hint]** The `collections` library has another useful datastructure: the `defaultdict`. Some example uses:"
   ]
  },
  {
   "cell_type": "code",
   "execution_count": 113,
   "metadata": {
    "collapsed": true
   },
   "outputs": [],
   "source": [
    "from collections import defaultdict\n",
    "\n",
    "#d = defaultdict(float)\n",
    "#d[\"new key\"]"
   ]
  },
  {
   "cell_type": "markdown",
   "metadata": {},
   "source": [
    "Compare that to an ordinary dictionary:"
   ]
  },
  {
   "cell_type": "code",
   "execution_count": 114,
   "metadata": {
    "collapsed": true
   },
   "outputs": [],
   "source": [
    "#d = dict()\n",
    "#d[\"new key\"]"
   ]
  },
  {
   "cell_type": "markdown",
   "metadata": {},
   "source": [
    "Other datatypes as `default_factory`:"
   ]
  },
  {
   "cell_type": "code",
   "execution_count": 115,
   "metadata": {
    "collapsed": true
   },
   "outputs": [],
   "source": [
    "#d = defaultdict(int)\n",
    "#d[\"new key\"]"
   ]
  },
  {
   "cell_type": "code",
   "execution_count": 116,
   "metadata": {
    "collapsed": true
   },
   "outputs": [],
   "source": [
    "#d = defaultdict(list)\n",
    "#d[\"new key\"]"
   ]
  },
  {
   "cell_type": "markdown",
   "metadata": {},
   "source": [
    "Converting an already existing `dict`:"
   ]
  },
  {
   "cell_type": "code",
   "execution_count": 117,
   "metadata": {
    "collapsed": true
   },
   "outputs": [],
   "source": [
    "#d1 = {k: \"value\" for k in range(1, 11)}\n",
    "#print(d1)\n",
    "#d = defaultdict(float, d1) # convert it to a defaultdict\n",
    "#print(d)\n",
    "#print(d[5])\n",
    "#print(d[100])"
   ]
  },
  {
   "cell_type": "markdown",
   "metadata": {},
   "source": [
    "This doesn't work:"
   ]
  },
  {
   "cell_type": "code",
   "execution_count": 118,
   "metadata": {
    "collapsed": true
   },
   "outputs": [],
   "source": [
    "#d = defaultdict(10)"
   ]
  },
  {
   "cell_type": "markdown",
   "metadata": {},
   "source": [
    "Use a `lambda` to make the number `10` `callable`\":"
   ]
  },
  {
   "cell_type": "code",
   "execution_count": 119,
   "metadata": {
    "collapsed": true
   },
   "outputs": [],
   "source": [
    "#d = defaultdict(lambda: 10)\n",
    "#d[\"new key\"]"
   ]
  },
  {
   "cell_type": "code",
   "execution_count": 120,
   "metadata": {
    "collapsed": true
   },
   "outputs": [],
   "source": [
    "#d = defaultdict(lambda: defaultdict(float))\n",
    "#d[\"new key\"]"
   ]
  },
  {
   "cell_type": "markdown",
   "metadata": {},
   "source": [
    "Clever use of a `defaultdict` can be the solution to the problem of data-storing in a smoothing $N$-gram pointed out above:\n",
    "    \n",
    "    ngram = defaultdict(lambda: k/(N+kV), ngram)"
   ]
  },
  {
   "cell_type": "markdown",
   "metadata": {},
   "source": [
    "The following function is given:"
   ]
  },
  {
   "cell_type": "code",
   "execution_count": 121,
   "metadata": {
    "collapsed": true
   },
   "outputs": [],
   "source": [
    "from collections import Counter\n",
    "train_file = \"ted-train.txt\"\n",
    "\n",
    "def read(fname, max_lines=np.inf):\n",
    "    \"\"\"\n",
    "    Reads in the data in fname and returns it as\n",
    "    one long list of words. Also returns a vocabulary in\n",
    "    the form of a word2index and index2word dictionary.\n",
    "    \"\"\"\n",
    "    data = []\n",
    "    # w2i will automatically keep a counter to asign to new words\n",
    "    w2i = defaultdict(lambda: len(w2i))\n",
    "    i2w = dict()\n",
    "    start = \"<s>\"\n",
    "    end = \"</s>\"\n",
    "    \n",
    "    with open(fname, \"r\") as fh:\n",
    "        for k, line in enumerate(fh):\n",
    "            if k > max_lines:\n",
    "                break\n",
    "            words = line.strip().split()\n",
    "            # assign an index to each word\n",
    "            for w in words:\n",
    "                i2w[w2i[w]] = w # trick\n",
    "            \n",
    "            sent = [start] + words + [end]\n",
    "            data.append(sent)\n",
    "\n",
    "    return data, w2i, i2w"
   ]
  },
  {
   "cell_type": "code",
   "execution_count": 313,
   "metadata": {
    "collapsed": true
   },
   "outputs": [],
   "source": [
    "def train_ngram(data, N, k=0):\n",
    "    \"\"\"\n",
    "    Trains an n-gram language model with optional add-k smoothing\n",
    "    and additionaly returns the unigram model\n",
    "\n",
    "    :param data: text-data as returned by read\n",
    "    :param N: (N>1) the order of the ngram e.g. N=2 gives a bigram\n",
    "    :param k: optional add-k smoothing\n",
    "    :returns: ngram and unigram\n",
    "    \"\"\"\n",
    "    \n",
    "    #read data\n",
    "    unpacked_data = [word for sent in data for word in sent]\n",
    "    \n",
    "    #define data structure for ngram and unigram, ngram[history][word] = #(history,word) \n",
    "    ngram = defaultdict(Counter)\n",
    "    unigram = defaultdict(float, Counter(unpacked_data))\n",
    "    \n",
    "    # n = number of tokens, V= vocabulary\n",
    "    n = len(unpacked_data)\n",
    "    V = len(unigram)\n",
    "    den = n + k*V\n",
    "    \n",
    "    #add default value, if k=0(not smoothed) it still returns 0.0 \n",
    "    unigram = defaultdict(lambda k = k, den = den : float(k/den), unigram)\n",
    "    #normalization (to get probabilities)\n",
    "    unigram.update((x, (y+k)/den) for x, y in unigram.items())\n",
    "    \n",
    "    #deque is a First In First Out list\n",
    "    #for each sentence beginning, we consider N \"<s>\" symbols\n",
    "    history = collections.deque([\"<s>\"] * (N-1), N-1)\n",
    "    \n",
    "    for word in unpacked_data[N-1:]:\n",
    "        if word == \"<s>\": \n",
    "            #if is a sentence beginning, history becomes a list of N-1 beginning tags again\n",
    "            history = collections.deque([\"<s>\"] * (N-1), N-1)\n",
    "            continue\n",
    "            \n",
    "        #add 1 to the count if the history is already there, create it otherwise\n",
    "        ngram[str(\" \".join(list(history)))][word] += 1\n",
    "        history.append(word)\n",
    "\n",
    "   \n",
    "    #smooth ngram, looping on the outside and inside dictionary\n",
    "    for key in ngram.keys():\n",
    "        d = ngram[key]\n",
    "        n = sum(d.values())\n",
    "        ngram[key] = defaultdict(lambda n=n, k = k, V = V: float(k/(n+k*V) ), d)\n",
    "        for key2 in ngram[key].keys():\n",
    "            ngram[key][key2] = float( (ngram[key][key2]+k)/(n + k*V) )\n",
    "        \n",
    "   \n",
    "    return ngram, unigram"
   ]
  },
  {
   "cell_type": "code",
   "execution_count": 370,
   "metadata": {
    "collapsed": true
   },
   "outputs": [],
   "source": [
    "data, w2i, i2w = read(train_file, max_lines=np.inf)\n",
    "\n",
    "#unsmoothed\n",
    "ngram2, unigram = train_ngram(data, 2, k=0)\n",
    "ngram3, unigram = train_ngram(data, 3, k=0)\n",
    "ngram4, unigram = train_ngram(data, 4, k=0)\n",
    "\n",
    "\n",
    "#smoothed\n",
    "ngram2_sm, unigram_sm = train_ngram(data, 2, k=1)\n",
    "ngram3_sm, unigram_sm = train_ngram(data, 3, k=1)"
   ]
  },
  {
   "cell_type": "code",
   "execution_count": 372,
   "metadata": {},
   "outputs": [
    {
     "name": "stdout",
     "output_type": "stream",
     "text": [
      "For each history, the probabilities add up to 1\n"
     ]
    }
   ],
   "source": [
    "#sanity check\n",
    "for key in ngram2_sm.keys():\n",
    "    \n",
    "    d = ngram2_sm[key]\t\t\t\t\t# the smoothed conditional distribution p(w|\"all\")\n",
    "    s = sum(d.values()) \n",
    "    seen = len(d.keys()) \t\t\t\t\t# number of actual words stored in d\n",
    "    unseen = len(w2i) - seen \n",
    "    default_prob = d[\"bla\"]     # all other words\n",
    "    remaining_prob = default_prob * unseen  \n",
    "    one = s + remaining_prob\t\t\t\t# should equal 1.0\n",
    "    if 1-one > 0.005:\n",
    "        print(key, one)\n",
    "        print(d)\n",
    "\n",
    "print(\"For each history, the probabilities add up to 1\")"
   ]
  },
  {
   "cell_type": "markdown",
   "metadata": {},
   "source": [
    "## Exercise 2.2 (5 points)\n",
    "\n",
    "You can use an *N*-gram language model to **generate text**. The higher the order *N* the better your model will be able to catch the long-range dependecies that occur in actual sentences and the better your changes are at generating sensible text. But beware: **sparsity** of language data will quickly cause your model to reproduce entire lines from your training data; in such cases only one $w_k$ was observed for the histories $w_{k-N+1}\\dots w_{k-1}$ in the entire training-set.\n",
    "\n",
    "**Complete** the function `generate_sent`. It takes a language model `lm` and an order `N` and should generate a sentence by **sampling** from the language model.\n",
    "\n",
    "**[Hint]** You can use the method of [inverse transform sampling](https://en.wikipedia.org/wiki/Inverse_transform_sampling) to generate a sample from a **categorical distribution**, $p_1\\dots p_k$ such that $p_i \\geq 0$ and $\\sum_{i=1}^k p_i = 1$, as follows:"
   ]
  },
  {
   "cell_type": "code",
   "execution_count": 318,
   "metadata": {},
   "outputs": [
    {
     "name": "stdout",
     "output_type": "stream",
     "text": [
      "1\n",
      "Counter({1: 514, 2: 193, 0: 190, 3: 103})\n"
     ]
    }
   ],
   "source": [
    "from random import random\n",
    "from random import choice\n",
    "\n",
    "P = [0.2,0.5,0.2,0.1]\n",
    "\n",
    "def sample(P):\n",
    "    u = random() # uniformly random number between 0 and 1\n",
    "    p = 0\n",
    "    for i, p_i in enumerate(P):\n",
    "        p += p_i\n",
    "        if p > u: \n",
    "            return i # the first i s.t. p1 + ... + pi > u\n",
    "        \n",
    "        \n",
    "print(sample(P))\n",
    "\n",
    "print(Counter([sample(P) for i in range(1000)])) # check to see if the law of large numbers is still true"
   ]
  },
  {
   "cell_type": "markdown",
   "metadata": {},
   "source": [
    "Inverse transform sampling in the words of Jurafsky and Martin:\n",
    "\n",
    "> Imagine all the words of the English language covering the probability space\n",
    "between 0 and 1, each word covering an interval proportional to its frequency. We\n",
    "choose a random value between 0 and 1 and print the word whose interval includes\n",
    "this chosen value.\n",
    "\n",
    "(J&M, section 4.3)"
   ]
  },
  {
   "cell_type": "code",
   "execution_count": 319,
   "metadata": {
    "collapsed": true
   },
   "outputs": [],
   "source": [
    "def generate_sent(lm, N):\n",
    "    #language model\n",
    "    ngram = lm\n",
    "    \n",
    "    #first word choosen between the possible beginnings\n",
    "    history = collections.deque( [\"<s>\"] * (N-1), N-1)\n",
    "    sent = []\n",
    "    word = \"\"\n",
    "    maxiter = 0\n",
    "    #stop if ending tag is sampled\n",
    "    while word != \"</s>\" and maxiter < 1000:\n",
    "        \n",
    "        str_hist = str(\" \".join(str(v) for v in history))\n",
    "        #collect probability values for possible next word\n",
    "        probs = list(ngram[str_hist].values())\n",
    "        #sample, i is the index of the sampled word\n",
    "        i = sample(probs)\n",
    "        words = list(ngram[str_hist].keys())\n",
    "        word = words[i]\n",
    "        #update\n",
    "        sent.append(word)\n",
    "        history.append(word)\n",
    "        maxiter += 1\n",
    "        \n",
    "    return \" \".join(sent[:-1])\n",
    "    \n",
    "    \n",
    "    \n",
    "    "
   ]
  },
  {
   "cell_type": "code",
   "execution_count": 322,
   "metadata": {},
   "outputs": [
    {
     "name": "stdout",
     "output_type": "stream",
     "text": [
      "Order 2:\n",
      "There 's the living brain and that I even in many similar to hold onto the only way , and compassion , forbidden .\n",
      "Order 3:\n",
      "So this isn 't that beautiful photo of women 's sense of self-awareness that separates San Diego so that if you can have , what you 're going to go .\n",
      "Order 4:\n",
      "What the authors of our own privacy , instinctively understand the profound importance of it .\n"
     ]
    }
   ],
   "source": [
    "print(\"Order 2:\")\n",
    "print(generate_sent(ngram2, 2))\n",
    "print(\"Order 3:\")\n",
    "print(generate_sent(ngram3, 3))\n",
    "print(\"Order 4:\")\n",
    "print(generate_sent(ngram4, 4))"
   ]
  },
  {
   "cell_type": "markdown",
   "metadata": {},
   "source": [
    "### [Optional]\n",
    "\n",
    "For how many of the histories $w_{k-N+1}\\dots w_{k-1}$ is the number of continuations $w_n$ equal to **one**? Calculate the percentage of such cases for the different orders *N*.\n",
    "\n",
    "And which history has the **most possible continuations**?"
   ]
  },
  {
   "cell_type": "code",
   "execution_count": 323,
   "metadata": {},
   "outputs": [
    {
     "name": "stdout",
     "output_type": "stream",
     "text": [
      "For N = 2, the number is:  37166\n",
      "The history is:  the\n",
      "For N = 3, the number is:  648435\n",
      "The history is:  of the\n",
      "For N = 4, the number is:  2106374\n",
      "The history is:  <s> <s> The\n"
     ]
    }
   ],
   "source": [
    "#models\n",
    "ngrams = [ngram2, ngram3, ngram4]\n",
    "\n",
    "\n",
    "for i in range(len(ngrams)):\n",
    "    count = 0\n",
    "    #search for histories with only one possible continuation\n",
    "    for el in ngrams[i]:\n",
    "        if len(ngrams[i][el]) == 1:\n",
    "            count += 1\n",
    "    print(\"For N = {}, the number is: \".format(i+2), count)\n",
    "    \n",
    "    #\n",
    "    max_poss = max(len(ngrams[i][el].values()) for el in ngrams[i].keys() if (el != \"<s> <s>\" and el != \"<s> <s> <s>\"))\n",
    "    for el in ngrams[i].keys():\n",
    "        if len(ngrams[i][el].values() ) == max_poss :\n",
    "            most_poss = el\n",
    "    print(\"The history is: \".format(i+2), most_poss)"
   ]
  },
  {
   "cell_type": "markdown",
   "metadata": {},
   "source": [
    "## Excercise 2.3 (5 points)\n",
    "\n",
    "Let $V$ denote our vocabulary. Recall that for any $w$ in $V$ `bigram[w]` defines a conditional probability $p(v|w)$ over $v$ in $V$. In the case of an **unsmoothed bigram**, $p(v|w) = 0$ for most $v\\in V$, whereas in the **smoothed bigram** smoothing took care that $p(v|w) \\geq 0$ for *all* $v$.\n",
    "\n",
    "The function `plot_bigram_dist(word, bigram, smoothbigram, k=30)` plots shows $p(v|word)$ for the `k` words $v$. One bar shows the probabilities in `bigram` and one in `smoothbigram`. \n",
    "\n",
    "**(a)** Use this function to plot the distribution for at least two words `w` and answer the questions\n",
    "* What is the effect of smoothing on the bigram distribution of frequent words? \n",
    "* What is the effect in the case of infrequent words?\n",
    "* Explain the difference between the two based on the raw counts of `w` \n",
    "\n",
    "**(b)** Now experiment with $k$ much smaller than 1 (but greater than 0!) \n",
    "* What are the effects?\n",
    "\n",
    "\n",
    "**[Hint]** Remember that add-1 smoothing turns \n",
    "$$P(w_n\\mid w_{n-1}) = \\frac{C(w_{n-1}w_{n})}{C(w_{n-1})}$$\n",
    "into\n",
    "$$P_{add-1}(w_n\\mid w_{n-1}) = \\frac{C(w_{n-1}w_{n}) + 1}{C(w_{n-1}) + |V|}.$$\n",
    "\n",
    "What happens when $C(w_{n-1})$ is relatively big (similiar in of size as $ |V| $)? And what if $C(w_{n-1})$ is small? "
   ]
  },
  {
   "cell_type": "code",
   "execution_count": 324,
   "metadata": {
    "collapsed": true
   },
   "outputs": [],
   "source": [
    "import pandas as pd\n",
    "import seaborn as sns    \n",
    "\n",
    "def plot_bigram_dist(word, bigram, smoothbigram, k=30):\n",
    "    d = bigram[word]\n",
    "    ds = smoothbigram[word]\n",
    "    \n",
    "    # sort the probabilities\n",
    "    d_sort = sorted(d.items(), reverse=True, key=lambda t: t[1])[0:k]\n",
    "    ds_sort = sorted(ds.items(), reverse=True, key=lambda t: t[1])[0:k]\n",
    "    \n",
    "    _, probs = zip(*d_sort)\n",
    "    smooth_ws, smooth_probs = zip(*ds_sort)\n",
    "    \n",
    "    # make up for the fact that in the unsmoothed case  probs is generally less than k long\n",
    "    probs = probs + (0,) * (k-len(probs)) \n",
    "\n",
    "    w_data = pd.DataFrame({\"w\": smooth_ws * 2,\n",
    "                           \"P({}|w)\".format(word): probs + smooth_probs,\n",
    "                           \"smoothing\": [\"unsmoothed\"]*k + [\"smoothed\"]*k})\n",
    "    \n",
    "    fig, ax = plt.subplots(figsize=(10,10))\n",
    "    plt.xticks(rotation=90)\n",
    "    g = sns.barplot(ax=ax, x=\"w\", y=\"P({}|w)\".format(word), hue=\"smoothing\",\n",
    "                    data=w_data, palette=\"Blues_d\")    "
   ]
  },
  {
   "cell_type": "code",
   "execution_count": 325,
   "metadata": {},
   "outputs": [
    {
     "data": {
      "image/png": "[encoded data removed]",
      "text/plain": [
       "<matplotlib.figure.Figure at 0x1365f7160>"
      ]
     },
     "metadata": {},
     "output_type": "display_data"
    },
    {
     "data": {
      "image/png": "[encoded data removed]",
      "text/plain": [
       "<matplotlib.figure.Figure at 0x133fbb588>"
      ]
     },
     "metadata": {},
     "output_type": "display_data"
    }
   ],
   "source": [
    "plot_bigram_dist(\"the\", ngram2, ngram2_sm, k=30)\n",
    "plot_bigram_dist(\"all\", ngram2, ngram2_sm, k=30)"
   ]
  },
  {
   "cell_type": "code",
   "execution_count": null,
   "metadata": {
    "collapsed": true
   },
   "outputs": [],
   "source": []
  },
  {
   "cell_type": "markdown",
   "metadata": {},
   "source": [
    "a) For both frequent and unfrequent words the mean P is much lower. However, with frequent words this difference is much bigger than for unfrequent words. Possible explanation: if you have a low wordcount, adding one has a bigger effect on the numerator than when you add one to a large wordcount. If you then also increase the denominator with V, the effect of a relatively small increase in the numerator has a bigger effect than a relatively large effect on the numerator.\n",
    "\n",
    "b) If we decrease k, we see that the difference between smoothed and unsmoothed gets less. The smaller k gets, the smaller the difference between smoothed and unsmoothed gets. The effect of the smoothing is reduced, so the probability for already seen words is almost the same, while the one for unseen words will be very very small. See plot below."
   ]
  },
  {
   "cell_type": "code",
   "execution_count": 369,
   "metadata": {
    "scrolled": true
   },
   "outputs": [
    {
     "data": {
      "image/png": "[encoded data removed]",
      "text/plain": [
       "<matplotlib.figure.Figure at 0x122ddf2b0>"
      ]
     },
     "metadata": {},
     "output_type": "display_data"
    }
   ],
   "source": [
    "#smoothed\n",
    "ngram2_sm_lk, unigram_sm_sk = train_ngram(data, 2, k=0.01)\n",
    "\n",
    "plot_bigram_dist(\"the\", ngram2, ngram2_sm_lk, k=30)"
   ]
  },
  {
   "cell_type": "markdown",
   "metadata": {},
   "source": []
  },
  {
   "cell_type": "markdown",
   "metadata": {},
   "source": [
    "\n",
    "**Recall** that if we have a sentence $w_1,\\dots,w_n$ we can write\n",
    "\n",
    "$$P(w_1\\dots w_n) = P(w_1)P(w_2|w_1) \\cdots P(w_i|w_1 \\dots w_{n-1}) \\approx P(w_1)P(w_2|w_1)\\cdots P(w_{N-1}|w_1\\dots w_{N-2})\\prod_{i=N}^{n} P(w_i|w_{i-(N-1)}\\dots w_{i-1})$$\n",
    "\n",
    "where in the last step we make an $N$-gram approximation of the full conditionals.\n",
    "\n",
    "For example, in the case of a bigram (N=2), the above expression reduces to\n",
    "\n",
    "$$P(w_1 \\dots w_n)\\approx P(w_1)\\prod_{i=2}^{n} P(w_i| w_{i-1}).$$\n",
    "\n",
    "## Exercise 2.4 (5 points)\n",
    "\n",
    "The following sentences are taken from the **training data**. Use your **unsmoothed unigram**, **bigram**, and **trigram** language model to estimate their **probabilities**:\n",
    "\n",
    "    1. Every day was about creating something new .\n",
    "    2. In this machine , a beam of protons and anti-protons are accelerated to near the speed of light and brought \n",
    "       together in a collision , producing a burst of pure energy .\n",
    "\n",
    "**Repeat** this with the **smoothed (add-1)** versions of the N-grams. What is the effect of smoothing on the probabilities?\n"
   ]
  },
  {
   "cell_type": "code",
   "execution_count": 381,
   "metadata": {
    "collapsed": true
   },
   "outputs": [],
   "source": [
    "def calc_prob(lm, N, sentence, pr = True):\n",
    "    prob = 1\n",
    "    sent = sentence[:]\n",
    "    sent.append(\"</s>\")\n",
    "    if N == 1:\n",
    "        for i in range(len(sent)):\n",
    "            word = sent[i]\n",
    "            prob *= lm[word]\n",
    "        if pr:\n",
    "            return \"For N = {}, the probability is: \".format(N) + str(prob)\n",
    "        else: \n",
    "            return prob\n",
    "        \n",
    "    else:\n",
    "        \n",
    "        history = collections.deque([\"<s>\"]* (N-1), N-1)    \n",
    "        for ind in range(len(sent)):\n",
    "            hist_str = str(\" \".join(str(v) for v in history))\n",
    "            word = sent[ind]\n",
    "            prob *= lm[hist_str][word]\n",
    "            history.append(word)\n",
    "        if pr:    \n",
    "            return \"For N = {}, the probability is: \".format(N) + str(prob) \n",
    "        else: \n",
    "            return prob\n",
    "    "
   ]
  },
  {
   "cell_type": "code",
   "execution_count": 382,
   "metadata": {},
   "outputs": [
    {
     "name": "stdout",
     "output_type": "stream",
     "text": [
      "Unsmoothed:\n",
      "Sentence:  Every day was about creating something new .\n",
      "For N = 1, the probability is: 1.8366672528510897e-25\n",
      "For N = 2, the probability is: 4.667998867880972e-17\n",
      "For N = 3, the probability is: 1.241092166741438e-11\n",
      "Sentence:  In this machine , a beam of protons and anti-protons are accelerated to near the speed of light and brought together in a collision , producing a burst of pure energy .\n",
      "For N = 1, the probability is: 5.807388280851283e-101\n",
      "For N = 2, the probability is: 2.0159953795734388e-72\n",
      "For N = 3, the probability is: 3.570432747502253e-31\n",
      "Smoothed:\n",
      "Sentence:  Every day was about creating something new .\n",
      "For N = 1, the probability is: 1.630705520583962e-25\n",
      "For N = 2, the probability is: 1.3642489842696694e-26\n",
      "For N = 3, the probability is: 1.5368267602896025e-35\n",
      "Sentence:  In this machine , a beam of protons and anti-protons are accelerated to near the speed of light and brought together in a collision , producing a burst of pure energy .\n",
      "For N = 1, the probability is: 8.784256648283904e-101\n",
      "For N = 2, the probability is: 1.555307447842366e-116\n",
      "For N = 3, the probability is: 1.401925651479823e-136\n"
     ]
    }
   ],
   "source": [
    "N = [1, 2, 3]\n",
    "models = [unigram, ngram2, ngram3]\n",
    "models_sm = [unigram_sm, ngram2_sm, ngram3_sm]\n",
    "\n",
    "sent1 = \"Every day was about creating something new .\"\n",
    "sent2 = \"In this machine , a beam of protons and anti-protons are accelerated to near the speed of light and brought together in a collision , producing a burst of pure energy .\"\n",
    "sent1_list = sent1.split(\" \")\n",
    "sent2_list = sent2.split(\" \")\n",
    "sents = [sent1_list, sent2_list]\n",
    "\n",
    "print(\"Unsmoothed:\")\n",
    "for sent in sents:\n",
    "    print(\"Sentence: \", \" \".join(sent) )\n",
    "    for n in N:\n",
    "        print( calc_prob(models[n-1], n, sent) )\n",
    "        \n",
    "print(\"Smoothed:\")   \n",
    "for sent in sents:\n",
    "    print(\"Sentence: \", \" \".join(sent) )\n",
    "    for n in N:\n",
    "        print( calc_prob(models_sm[n-1], n, sent) )"
   ]
  },
  {
   "cell_type": "markdown",
   "metadata": {},
   "source": [
    "When the model is not smoothed, for bigger order n-grams we get bigger probabilities. If we smooth the model though, for bigger orders we get a smaller probability."
   ]
  },
  {
   "cell_type": "markdown",
   "metadata": {},
   "source": [
    "## Exercise 2.5 (5 points)\n",
    "\n",
    "The above sentences were taken from the training set, hence they will all have probability greater than 0. The big challenge for our language model are of course with sentence that contain unseen N-grams: if such an N-gram occurs our model immediately assigns the sentence probability zero.\n",
    "\n",
    "The following three senteces are taken from the **test set** availlable in the file **ted-test.txt**. What probabilities do your smoothed and unsmoothed language models asign in this case?\n",
    "\n",
    "    1. Because these robots are really safe .\n",
    "    2. We have sheer nothingness on one side , and we have this vision of a reality that encompasses every \n",
    "       conceivable world at the other extreme : the fullest possible reality , nothingness , the simplest possible \n",
    "       reality ."
   ]
  },
  {
   "cell_type": "code",
   "execution_count": 383,
   "metadata": {},
   "outputs": [
    {
     "name": "stdout",
     "output_type": "stream",
     "text": [
      "Unsmoothed:\n",
      "Sentence:  Because these robots are really safe .\n",
      "For N = 1, the probability is: 7.533411199081187e-23\n",
      "For N = 2, the probability is: 2.6913665324688018e-15\n",
      "For N = 3, the probability is: 0.0\n",
      "Sentence:  We have sheer nothingness on one side , and we have this vision of a reality that encompasses every conceivable world at the other extreme : the fullest possible reality , nothingness , the simplest possible reality .\n",
      "For N = 1, the probability is: 7.800101977196022e-119\n",
      "For N = 2, the probability is: 0.0\n",
      "For N = 3, the probability is: 0.0\n",
      "Smoothed:\n",
      "Sentence:  Because these robots are really safe .\n",
      "For N = 1, the probability is: 6.787240900670031e-23\n",
      "For N = 2, the probability is: 7.259172702960281e-24\n",
      "For N = 3, the probability is: 2.4686213252546237e-33\n",
      "Sentence:  We have sheer nothingness on one side , and we have this vision of a reality that encompasses every conceivable world at the other extreme : the fullest possible reality , nothingness , the simplest possible reality .\n",
      "For N = 1, the probability is: 7.715620113034712e-119\n",
      "For N = 2, the probability is: 1.050158700443956e-126\n",
      "For N = 3, the probability is: 0.0\n"
     ]
    }
   ],
   "source": [
    "sent1 = \"Because these robots are really safe .\"\n",
    "sent2 = \"We have sheer nothingness on one side , and we have this vision of a reality that encompasses every conceivable world at the other extreme : the fullest possible reality , nothingness , the simplest possible reality .\"\n",
    "\n",
    "sent1_list = sent1.split(\" \")\n",
    "sent2_list = sent2.split(\" \")\n",
    "sents = [sent1_list, sent2_list]\n",
    "\n",
    "print(\"Unsmoothed:\")\n",
    "for sent in sents:\n",
    "    print(\"Sentence: \", \" \".join(sent) )\n",
    "    for n in N:\n",
    "        print( calc_prob(models[n-1], n, sent) )\n",
    "        \n",
    "print(\"Smoothed:\")   \n",
    "for sent in sents:\n",
    "    print(\"Sentence: \", \" \".join(sent) )\n",
    "    for n in N:\n",
    "        print( calc_prob(models_sm[n-1], n, sent) )"
   ]
  },
  {
   "cell_type": "markdown",
   "metadata": {},
   "source": [
    "For higher order n-grams the probability is 0, since if the history is not already in the model (so it is unseen) then the assigned probablity to that n-gram is 0."
   ]
  },
  {
   "cell_type": "markdown",
   "metadata": {},
   "source": [
    "### [Optional]\n",
    "\n",
    "**Optional** What percentage of the sentences in the test set get assigned probability 0 under your smoothed and unsmoothed language models? "
   ]
  },
  {
   "cell_type": "code",
   "execution_count": 389,
   "metadata": {},
   "outputs": [
    {
     "name": "stdout",
     "output_type": "stream",
     "text": [
      "Unsmoothed:\n",
      "For N = 1, the percentage is:  11.188811188811188\n",
      "For N = 2, the percentage is:  71.32867132867133\n",
      "For N = 3, the percentage is:  89.16083916083916\n",
      "Smoothed:\n",
      "For N = 1, the percentage is:  0.0\n",
      "For N = 2, the percentage is:  11.188811188811188\n",
      "For N = 3, the percentage is:  71.32867132867133\n"
     ]
    }
   ],
   "source": [
    "test_file = \"ted-test.txt\"\n",
    "test_data, test_w2i, test_i2w = read(test_file, max_lines=np.inf)\n",
    "\n",
    "print(\"Unsmoothed:\")\n",
    "for n in N:\n",
    "    count = 0\n",
    "    for asent in test_data:\n",
    "        sent = asent[1:-1]\n",
    "        if calc_prob(models[n-1], n, sent, pr = False) == 0.0:\n",
    "            count += 1\n",
    "    print(\"For N = {}, the percentage is: \".format(n), count*100/len(test_data))\n",
    "    \n",
    "print(\"Smoothed:\") \n",
    "for n in N:\n",
    "    count = 0\n",
    "    for asent in test_data:\n",
    "        sent = asent[1:-1]\n",
    "        if calc_prob(models_sm[n-1], n, sent, pr = False) == 0:\n",
    "            count += 1\n",
    "    print(\"For N = {}, the percentage is: \".format(n), count*100/len(test_data))\n",
    "\n"
   ]
  },
  {
   "cell_type": "markdown",
   "metadata": {},
   "source": [
    "## Exercise 2.6 (5 points)\n",
    "\n",
    "**Perplexity** is very frequently used **metric** for evaluating probabilistic models such as language models. The perplexity (sometimes called **PP** for short) of a language model on a sentence is the **inverse probability** of the sentence, **normalized** by the number of words:\n",
    "\n",
    "$$PP(w_1 \\dots w_n) = P(w_1\\dots w_n)^{-\\frac{1}{n}}.$$\n",
    "\n",
    "Here we can again approximate $P(w_1 \\dots w_n)$ with N-gram probabilities, as above.\n",
    "Note: $(x_1\\cdots x_n)^{-\\frac{1}{n}}$ is the **geometric mean** of the numbers $x_1,\\dots,x_n$. It is like the (regular) artithmetic mean, but with **products** instead of **sums**. The geometric mean is a more natural choice in the case of *PP* because behind $P(w_1\\dots w_n)$ is a series of $n$ products ([more here](https://en.wikipedia.org/wiki/Geometric_mean)).\n",
    "\n",
    "\n",
    "\n",
    "Compute the perplexity of the training sentences from excercise 2.1. What big difference between the **probabilities** of the sentences and the **perplexities** of the sentences do you notice?"
   ]
  },
  {
   "cell_type": "code",
   "execution_count": 329,
   "metadata": {},
   "outputs": [
    {
     "name": "stdout",
     "output_type": "stream",
     "text": [
      "Unsmoothed:\n",
      "For sentence 1, N = 1, the perplexity is:  844.3139230653808\n",
      "For sentence 1, N = 2, the perplexity is:  109.9913815992532\n",
      "For sentence 1, N = 3, the perplexity is:  23.082056283680295\n",
      "For sentence 2, N = 1, the perplexity is:  1233.1120404452167\n",
      "For sentence 2, N = 2, the perplexity is:  173.9741415108124\n",
      "For sentence 2, N = 3, the perplexity is:  8.942881441459873\n"
     ]
    }
   ],
   "source": [
    "#sentences\n",
    "sent1 = \"Every day was about creating something new .\"\n",
    "sent2 = \"In this machine , a beam of protons and anti-protons are accelerated to near the speed of light and brought together in a collision , producing a burst of pure energy .\"\n",
    "\n",
    "sent1_list = sent1.split(\" \")\n",
    "sent2_list = sent2.split(\" \")\n",
    "sents = [sent1_list, sent2_list]\n",
    "\n",
    "N = [2, 3]\n",
    "models = [unigram, ngram2, ngram3]\n",
    "models_sm = [unigram_sm, ngram2_sm, ngram3_sm]\n",
    "\n",
    "print(\"Unsmoothed:\")\n",
    "for sent in sents:\n",
    "    prob = 1\n",
    "    for i in range(len(sent)):\n",
    "        word = sent[i]\n",
    "        prob *= unigram[word]\n",
    "    print(\"For sentence {}, N = {}, the perplexity is: \".format(sents.index(sent)+1, \"1\"), pow(prob, -1/len(sent)))\n",
    "    \n",
    "    for n in N:\n",
    "        prob = 1\n",
    "        history = collections.deque([\"<s>\"]* (n-1), n-1)\n",
    "            \n",
    "        for ind in range(len(sent)):\n",
    "            hist_str = str(\" \".join(str(v) for v in history))\n",
    "            word = sent[ind]\n",
    "            prob *= models[n-1][hist_str][word]\n",
    "            history.append(word)\n",
    "            \n",
    "        print(\"For sentence {}, N = {}, the perplexity is: \".format(sents.index(sent)+1, n), pow(prob, -1/len(sent)))"
   ]
  },
  {
   "cell_type": "markdown",
   "metadata": {},
   "source": [
    "For higher order, the perplexity gets smaller and smaller while the probability gets bigger."
   ]
  },
  {
   "cell_type": "markdown",
   "metadata": {},
   "source": [
    "# That's it!\n",
    "\n",
    "Congratulations, you have made it to the end of the tutorial. Here we will recap the gist of this notebook. \n",
    "\n",
    "**Make sure all your cells can be executed and all your answers are there. Then, read on if you're interested!**\n",
    "\n",
    "-----\n",
    "\n",
    "By now you should have a solid feeling for the problem of **sparsity in language data**; there's just never enough data. For the task of language modelling, we saw that sparsity is a serious challenge. \n",
    "\n",
    "It would be great to be able to model $p(w_n|w_1 \\dots w_{n-1})$ for unlimited $n$: the larger $n$ the better our language model should become at capturing the long-range dependencies between words that characterize actual human sentences, and the more probability our model will asign to such sentences as opposed to sentences that are word-soup. But in the N-gram approach, increasing $n$ will quickly kill all generalizing abilities of the model: the model will start to asign probabilities only to sentences it has seen in the training data.\n",
    "\n",
    "So, where to go from here? Here are three directions that we could head in.\n",
    "\n",
    "### Smoothing\n",
    "\n",
    "We have seen one example of smoothing in this lab: add-k smoothing. This is an easy method, both conceptually and implementation-wise. But the results are not great, and the effects it has on the distributions can be extreme.\n",
    "\n",
    "A much more sophisticated method of smoothing is so-called **Kneser-Ney smoothing**. The method is described in detail in section 4.5 of J&M (3rd edition). This is one of the best performing N-gram smoothing methods, and up to a few years ago a popular implementation of it called [KenLM](https://kheafield.com/code/kenlm/) gave state of the art results.\n",
    "\n",
    "### From words to characters\n",
    "\n",
    "In this lab we have considered language modeling as the task of predicting a **word** $w_n$ based on a history of **words** $w_1\\cdots w_n$. What if instead we let our basic units of modelling be **characters**? The task then becomes to model $p(c_k\\mid c_{k-N-1}\\dots c_{k-1})$ where each $c_i$ is now an ASCII character instead of an entire word.\n",
    "\n",
    "Suddenly sparsity of data is no longer a problem! The set of characters to use is tiny (< 100) compared to even a small-sized vocabulary as today. Have a look at this very illustrative notebook written by Yoav Golberg to see such a method in action: [The unreasonable effectiveness of Character-level Language Models](http://nbviewer.jupyter.org/gist/yoavg/d76121dfde2618422139).\n",
    "\n",
    "(So what is the downside?)\n",
    "\n",
    "\n",
    "### Neural language models\n",
    "\n",
    "The above notebook was actually written as a response to this blog post by Andrej Karpathy: [The Unreasonable Effectiveness of Recurrent Neural Networks](http://karpathy.github.io/2015/05/21/rnn-effectiveness/). Go ahead and read it if you haven't already: it is a superb introduction to the topic of Recurrent Neural Networks.\n",
    "\n",
    "Neural language models solve the problem of data sparsity in a different manner. Instead of estimating the probabilities $p(w_k\\mid w_{k-N-1}\\dots w_{k-1})$ by counting occurences in the data, they use a neural network $f_{\\theta}$ parametrized by parameters $\\theta$ to predict this probability. The parameters $\\theta$ are learned through optimization. \n",
    "\n",
    "The simplest approach goes like this: each word in the history $w_{k-N-1}\\dots w_{k-1}$ is embedded separately giving  vectors $e_{k-N-1}\\dots e_{k-1}$ and then concatenated into one long vectors $[e_{k-N-1};\\dots ;e_{k-1}]$. The network then uses this history vector to predict a probability distribution over words $w$ in the vocabulary $V$:\n",
    "\n",
    "$$p(w \\mid w_{k-N-1}\\dots w_{k-1}) = f_{\\theta}([e_{k-N-1};\\dots;e_{k-1}]).$$\n",
    "\n",
    "(In order to produce legitimate probabilities the final layer of such a network will be for example a $softmax$.)\n",
    "\n",
    "This provides a solution to the sparsity problem by having the network let the individual embeddings of the words in the history interact through its non-linear transforamtion. We are letting the network figure out the smoothing itself!\n",
    "\n",
    "RNNs are a clever extension of this idea, where a hidden state vector $h$ is re-used and updated at each step $k$ in order to store the information of the entire history up to step $k-1$. That is, an RNN actually does away with the N-order approximation; it tries to model the full conditional directly! That means that\n",
    "\n",
    "$$p(w \\mid w_1\\dots w_{k-1}) \\approx RNN_{\\theta}([e_{k-1};h_{k-1}])$$\n",
    "\n",
    "where the hidden state $h_{k-1}$ is a compression of the *entire history* $w_1\\dots w_{k-1}$.\n",
    "\n",
    "Another great place to learn about RNNs, their problems, and solutions to those, is on the blog of [Christopher Olah](http://colah.github.io/posts/2015-08-Understanding-LSTMs/). The project on language modelling will involve learning more about these methods. \n",
    "\n",
    "-----------\n",
    "(And now, it's time to read the classic essay by Eugene Wigner that gave both of the posts their title: [The Unreasonable Effectiveness of Mathematics in the Natural Sciences](http://www.dartmouth.edu/~matc/MathDrama/reading/Wigner.html))"
   ]
  }
 ],
 "metadata": {
  "anaconda-cloud": {},
  "kernelspec": {
   "display_name": "Python 3",
   "language": "python",
   "name": "python3"
  },
  "language_info": {
   "codemirror_mode": {
    "name": "ipython",
    "version": 3
   },
   "file_extension": ".py",
   "mimetype": "text/x-python",
   "name": "python",
   "nbconvert_exporter": "python",
   "pygments_lexer": "ipython3",
   "version": "3.6.3"
  }
 },
 "nbformat": 4,
 "nbformat_minor": 1
}
